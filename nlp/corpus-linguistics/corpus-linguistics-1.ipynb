{
 "cells": [
  {
   "cell_type": "markdown",
   "metadata": {},
   "source": [
    "## 521 QUIZ 1"
   ]
  },
  {
   "cell_type": "markdown",
   "metadata": {},
   "source": [
    "### Indicate which string method or operator from Lecture 1 can be used to solve a given task involving strings\n",
    "### Use string methods/operators to extract a specified substring\n",
    "### Use boolean string methods to identify whether a word has a particular property\n",
    "\n",
    "| method/operator                                | example         |\n",
    "|------------------------------------------------|-----------------|\n",
    "| `.split()`                                     | `S1.split(\"-\")` |\n",
    "| `.strip()`<br> - `.lstrip()`<br> - `.rstrip()` | `.strip(\" +-\")` |\n",
    "| `+`                                     | \"hello\" + \" \" + \"world\" |\n",
    "| `.join()`                                   | \"-\".join(List) |\n",
    "| f-string                                     | f\"The {noun} likes to {verb}!\" |\n",
    "| `.replace()`                                    | str.replace(\"feet\",\"fingers\") |\n",
    "| `.upper()`                                    | \"case\".upper() |\n",
    "| `.lower()`                                    | \"CASE\".lower() |\n",
    "| `.title()`                                    | \"cASE\".title() |\n",
    "| `.startswith(\"str\")` (bool)                                   | S1.startswith(\"re\") |\n",
    "| `.endswith(\"str\")`   (bool)                                 | S1.endswith(\"ed\") |\n",
    "| `in`   (bool)                                 | \"red\" in S1 |\n",
    "| `.isupper()`   (bool)                                 | \"CASE\".isupper() |\n",
    "| `.islower()`   (bool)                                 | 'case'.islower() |\n",
    "| `.isdigit()`   (bool)                                 | '123'.isdigit() |"
   ]
  },
  {
   "cell_type": "markdown",
   "metadata": {},
   "source": [
    "### Given a Python data structure involving strings (e.g. a POS-tagged sentence), collapse it to a single string using string methods"
   ]
  },
  {
   "cell_type": "code",
   "execution_count": 7,
   "metadata": {},
   "outputs": [
    {
     "name": "stdout",
     "output_type": "stream",
     "text": [
      "The/AT\n",
      "Fulton/NP-TL\n",
      "County/NN-TL\n",
      "Grand/JJ-TL\n",
      "Jury/NN-TL\n",
      "said/VBD\n",
      "Friday/NR\n",
      "an/AT\n",
      "investigation/NN\n",
      "of/IN\n"
     ]
    }
   ],
   "source": [
    "from nltk.corpus import brown\n",
    "\n",
    "for word in brown.tagged_words()[:10]:\n",
    "    print(\"/\".join(word))"
   ]
  },
  {
   "cell_type": "code",
   "execution_count": 12,
   "metadata": {},
   "outputs": [
    {
     "data": {
      "text/plain": [
       "'The/AT Fulton/NP-TL County/NN-TL Grand/JJ-TL Jury/NN-TL said/VBD Friday/NR an/AT investigation/NN of/IN'"
      ]
     },
     "execution_count": 12,
     "metadata": {},
     "output_type": "execute_result"
    }
   ],
   "source": [
    "\" \".join([\"/\".join(word) for word in brown.tagged_words()[:10]])"
   ]
  },
  {
   "cell_type": "markdown",
   "metadata": {},
   "source": [
    "### Convert between numeric strings and Python number types"
   ]
  },
  {
   "cell_type": "code",
   "execution_count": 13,
   "metadata": {},
   "outputs": [
    {
     "data": {
      "text/plain": [
       "42"
      ]
     },
     "execution_count": 13,
     "metadata": {},
     "output_type": "execute_result"
    }
   ],
   "source": [
    "int('42')"
   ]
  },
  {
   "cell_type": "code",
   "execution_count": 14,
   "metadata": {},
   "outputs": [
    {
     "data": {
      "text/plain": [
       "'42'"
      ]
     },
     "execution_count": 14,
     "metadata": {},
     "output_type": "execute_result"
    }
   ],
   "source": [
    "str(42)"
   ]
  },
  {
   "cell_type": "markdown",
   "metadata": {},
   "source": [
    "### Know the meaning of (and relationships between) terms such as corpus, document, type, token, vocabulary, and lexicon in the context of computational linguistics"
   ]
  },
  {
   "cell_type": "markdown",
   "metadata": {},
   "source": [
    "1. Corpus: a collection of documents\n",
    "2. Document (D): a sequence of word tokens\n",
    "3. Token: a particular instance of a type in a document\n",
    "4. Type: a distinct word form, often appearing in multiple tokens across documents, corpora\n",
    "5. Lexicon: a collection of word types, possibly with associated information (ex. pronunciation)\n",
    "6. Vocabulary (V): a list of all word types in a corpus (a vocabulary is lexicon, but there are lots of lexicons that are not vocabulary)\n",
    "7. n-grams: a fixed length sequence of words (unigram, bigram, trigram, 4-gram,...). $n$-grams also have type/token distinction"
   ]
  },
  {
   "cell_type": "code",
   "execution_count": 15,
   "metadata": {},
   "outputs": [
    {
     "data": {
      "text/plain": [
       "<CategorizedTaggedCorpusReader in '/Users/jinjin/nltk_data/corpora/brown'>"
      ]
     },
     "execution_count": 15,
     "metadata": {},
     "output_type": "execute_result"
    }
   ],
   "source": [
    "# corpus\n",
    "brown"
   ]
  },
  {
   "cell_type": "code",
   "execution_count": 27,
   "metadata": {},
   "outputs": [
    {
     "name": "stdout",
     "output_type": "stream",
     "text": [
      "ca01\n",
      "ca02\n",
      "ca03\n",
      "ca04\n",
      "ca05\n"
     ]
    }
   ],
   "source": [
    "# document\n",
    "for doc in brown.fileids()[:5]:\n",
    "    print(doc)"
   ]
  },
  {
   "cell_type": "code",
   "execution_count": 25,
   "metadata": {},
   "outputs": [
    {
     "data": {
      "text/plain": [
       "['cf01', 'cf02', 'cf03', 'cf04', 'cf05']"
      ]
     },
     "execution_count": 25,
     "metadata": {},
     "output_type": "execute_result"
    }
   ],
   "source": [
    "brown.fileids(categories='lore')[:5]"
   ]
  },
  {
   "cell_type": "code",
   "execution_count": 28,
   "metadata": {},
   "outputs": [
    {
     "name": "stdout",
     "output_type": "stream",
     "text": [
      "The\n",
      "Fulton\n",
      "County\n",
      "Grand\n",
      "Jury\n"
     ]
    }
   ],
   "source": [
    "# token\n",
    "for token in brown.words()[:5]:\n",
    "    print(token)"
   ]
  },
  {
   "cell_type": "code",
   "execution_count": 30,
   "metadata": {},
   "outputs": [
    {
     "data": {
      "text/plain": [
       "{'County', 'Fulton', 'Grand', 'Jury', 'The'}"
      ]
     },
     "execution_count": 30,
     "metadata": {},
     "output_type": "execute_result"
    }
   ],
   "source": [
    "# type\n",
    "set(brown.words()[:5])"
   ]
  },
  {
   "cell_type": "code",
   "execution_count": 248,
   "metadata": {},
   "outputs": [
    {
     "data": {
      "text/plain": [
       "defaultdict(dict,\n",
       "            {'the': {'AT': 1},\n",
       "             'fulton': {'NP': 1},\n",
       "             'county': {'NN': 1},\n",
       "             'grand': {'JJ': 1},\n",
       "             'jury': {'NN': 1}})"
      ]
     },
     "execution_count": 248,
     "metadata": {},
     "output_type": "execute_result"
    }
   ],
   "source": [
    "# lexicon (POS tag lexicon)\n",
    "\n",
    "from collections import defaultdict\n",
    "POS_tag_lexicon = defaultdict(dict)\n",
    "\n",
    "for word, pos in brown.tagged_words()[:5]:\n",
    "    POS_tag_lexicon[word.lower()][pos[:2]] = POS_tag_lexicon[word.lower()].get(pos[:2], 0) + 1\n",
    "    \n",
    "POS_tag_lexicon"
   ]
  },
  {
   "cell_type": "code",
   "execution_count": 249,
   "metadata": {},
   "outputs": [
    {
     "data": {
      "text/plain": [
       "['Fulton', 'Grand', 'Jury', 'County', 'The']"
      ]
     },
     "execution_count": 249,
     "metadata": {},
     "output_type": "execute_result"
    }
   ],
   "source": [
    "# vocabulary - list of all word types\n",
    "# can be treated as a lexicon\n",
    "list(set(brown.words()[:5]))"
   ]
  },
  {
   "cell_type": "code",
   "execution_count": 53,
   "metadata": {},
   "outputs": [
    {
     "name": "stdout",
     "output_type": "stream",
     "text": [
      "The Fulton\n",
      "Fulton County\n",
      "County Grand\n",
      "Grand Jury\n",
      "Jury said\n",
      "said Friday\n",
      "Friday an\n",
      "an investigation\n",
      "investigation of\n"
     ]
    }
   ],
   "source": [
    "# n grams\n",
    "tokens = []\n",
    "for word in brown.words()[:10]:\n",
    "    tokens.append(word)\n",
    "\n",
    "# 2-grams\n",
    "for i in range(len(tokens) -1):\n",
    "        print(tokens[i] + \" \" + tokens[i+1])"
   ]
  },
  {
   "cell_type": "markdown",
   "metadata": {},
   "source": [
    "### Explain the overall distribution of word frequencies in a typical lingusitic corpus (i.e. of the total vocabulary, how many very high frequency words are there? How many low frequency words?) "
   ]
  },
  {
   "cell_type": "code",
   "execution_count": 69,
   "metadata": {},
   "outputs": [
    {
     "name": "stdout",
     "output_type": "stream",
     "text": [
      "[('the', 62713), (',', 58334), ('.', 49346), ('of', 36080), ('and', 27915), ('to', 25732), ('a', 21881), ('in', 19536), ('that', 10237), ('is', 10011)]\n",
      "--------------------\n",
      "[(1, '$.054/mbf'), (1, '$.07/cwt'), (1, '$.076'), (1, '$.09'), (1, '$.10-a-minute'), (1, '$.105'), (1, '$.12'), (1, '$.30'), (1, '$.30/mbf'), (1, '$.65')]\n"
     ]
    }
   ],
   "source": [
    "from collections import Counter\n",
    "\n",
    "counter = Counter(brown.words())\n",
    "\n",
    "print(counter.most_common(10))\n",
    "print(\"--------------------\")\n",
    "print(sorted([(count, word) for word, count in counter.items()])[:10])"
   ]
  },
  {
   "cell_type": "code",
   "execution_count": 268,
   "metadata": {},
   "outputs": [],
   "source": [
    "counter = Counter(brown.words())\n",
    "counter_lower = defaultdict(int)\n",
    "\n",
    "for key, value in counter.items():\n",
    "    counter_lower[key.lower()] += value\n",
    "\n",
    "counter_sorted_list = sorted(counter_lower.keys(), key=lambda x: counter_lower[x], reverse=True)"
   ]
  },
  {
   "cell_type": "code",
   "execution_count": 271,
   "metadata": {},
   "outputs": [
    {
     "name": "stdout",
     "output_type": "stream",
     "text": [
      "['tallow', 'crisscrossed', 'spector', 'process-server', 'grimesby', \"roylott's\", 'speckled', 'incubi', 'masterly', 'beggary', 'hubris', 'plumbed', 'bathos', 'besmirched', 'extremis', 'pityingly', 'horoscope', 'sidle', 'bodhisattva', 'hors', 'yaws', 'fluke', 'bilharziasis', 'perelman', 'exhaling', 'aviary', 'olive-flushed', 'coral-colored', 'boucle', 'stupefying']\n"
     ]
    }
   ],
   "source": [
    "print(counter_sorted_list[-30:])"
   ]
  },
  {
   "cell_type": "markdown",
   "metadata": {},
   "source": [
    "- Most of the words appears once."
   ]
  },
  {
   "cell_type": "code",
   "execution_count": 77,
   "metadata": {},
   "outputs": [
    {
     "data": {
      "text/plain": [
       "45.5946625755927"
      ]
     },
     "execution_count": 77,
     "metadata": {},
     "output_type": "execute_result"
    }
   ],
   "source": [
    "hapax_count = 0\n",
    "for word, count in counter.items():\n",
    "    if count == 1:\n",
    "        hapax_count += 1\n",
    "        \n",
    "hapax_count / len(counter) * 100 # rare types are 46% of all types!"
   ]
  },
  {
   "cell_type": "markdown",
   "metadata": {},
   "source": [
    "### Define Zipf's law is, and be able to describe (or identify) a graph of word frequencies in a corpus that is obeying Zipf's law\n",
    "\n",
    "> Zipf's law: Given some corpus of natural language utterances, the frequency of any word (type) is inversely proportional to its rank in the frequency table. Thus the most frequent word will occur approximately twice as often as the second most frequent word, three times as often as the third most frequent word"
   ]
  },
  {
   "cell_type": "markdown",
   "metadata": {},
   "source": [
    "### Be able to list the key ways that corpora may vary, and give examples (you do NOT need to know the specific names of NLTK corpora for this, but you need to know the different kinds of corpora we looked at)"
   ]
  },
  {
   "cell_type": "markdown",
   "metadata": {},
   "source": [
    "| Corpus                   | Description                                                                                                                                                                                                                                                            |\n",
    "|--------------------------|------------------------------------------------------------------------------------------------------------------------------------------------------------------------------------------------------------------------------------------------------------------------|\n",
    "| The Brown Corpus         | - The original corpus linguistics corpus (Kučera and Francis 1967)<br>- First major machine-readable corpus<br>- 500 documents<br>- **\"Balanced\" corpus of 15 text genres**, used in studies of genre<br>- Huge at the time, now a bit small!                          |\n",
    "| The Penn Treebank        | - Primarily **Wall Street Journal articles** from 1989<br>- 2500 documents in total<br>- Only a ~200 document sample in NLTK, full version requires LDC subscription<br>- The first large corpus with parse trees, used extensively for parsing and syntactic analysis |\n",
    "| Switchboard corpus       | - 36 transcribed **telephone conversations**<br>- Calls between strangers in 1990-1<br>- Useful for study of dialogue acts                                                                                                                                             |\n",
    "| Gutenberg                | - Out of copyright documents from Project Gutenberg<br>- Mostly classic literature from before 1900                                                                                                                                                                    |\n",
    "| Internet-derived corpora | - 2000 movie reviews from a IMDB newsgroup (movie_reviews)<br>- 10K IM chat posts (nps_chat)<br>- Collection of various text from the web (webtext)<br>- Sample of tweets (twitter_samples)                                                                            |"
   ]
  },
  {
   "cell_type": "markdown",
   "metadata": {},
   "source": [
    "### Know what a word cloud is, and what the size of words in word clouds indicate"
   ]
  },
  {
   "cell_type": "markdown",
   "metadata": {},
   "source": [
    "- An easy way of visualizing text data.\n",
    "- The size of a word reflects its frequency."
   ]
  },
  {
   "cell_type": "code",
   "execution_count": 85,
   "metadata": {},
   "outputs": [
    {
     "data": {
      "image/png": "[encoded data removed]",
      "text/plain": [
       "<Figure size 432x288 with 1 Axes>"
      ]
     },
     "metadata": {
      "needs_background": "light"
     },
     "output_type": "display_data"
    }
   ],
   "source": [
    "from wordcloud import WordCloud\n",
    "import matplotlib.pyplot as plt\n",
    "\n",
    "words = brown.words()[:50]\n",
    "wordcloud = WordCloud().generate(\" \".join(brown.words()))\n",
    "\n",
    "plt.imshow(wordcloud)\n",
    "plt.axis(\"off\")\n",
    "plt.show()"
   ]
  },
  {
   "cell_type": "markdown",
   "metadata": {},
   "source": [
    "### Define a corpus annotation, and be able to give some examples from the NLTK corpora"
   ]
  },
  {
   "cell_type": "markdown",
   "metadata": {},
   "source": [
    "- A corpus annotation: labels for documents in the corpus.\n",
    "\n",
    "1. Categories\n",
    "    - the Brown : genres\n",
    "    - the Movie Review : polarity (pos or neg)"
   ]
  },
  {
   "cell_type": "code",
   "execution_count": 87,
   "metadata": {},
   "outputs": [
    {
     "name": "stdout",
     "output_type": "stream",
     "text": [
      "['adventure', 'belles_lettres', 'editorial', 'fiction', 'government', 'hobbies', 'humor', 'learned', 'lore', 'mystery', 'news', 'religion', 'reviews', 'romance', 'science_fiction']\n"
     ]
    }
   ],
   "source": [
    "print(brown.categories())"
   ]
  },
  {
   "cell_type": "code",
   "execution_count": 91,
   "metadata": {},
   "outputs": [
    {
     "name": "stdout",
     "output_type": "stream",
     "text": [
      "['Dan', 'Morgan', 'told', 'himself', 'he', 'would', ...]\n",
      "['Northern', 'liberals', 'are', 'the', 'chief', ...]\n",
      "['Assembly', 'session', 'brought', 'much', 'good', ...]\n",
      "['Thirty-three', 'Scotty', 'did', 'not', 'go', 'back', ...]\n",
      "['The', 'Office', 'of', 'Business', 'Economics', '(', ...]\n",
      "['Too', 'often', 'a', 'beginning', 'bodybuilder', ...]\n",
      "['It', 'was', 'among', 'these', 'that', 'Hinkle', ...]\n",
      "['1', '.', 'Introduction', 'It', 'has', 'recently', ...]\n",
      "['In', 'American', 'romance', ',', 'almost', 'nothing', ...]\n",
      "['There', 'were', 'thirty-eight', 'patients', 'on', ...]\n",
      "['The', 'Fulton', 'County', 'Grand', 'Jury', 'said', ...]\n",
      "['As', 'a', 'result', ',', 'although', 'we', 'still', ...]\n",
      "['It', 'is', 'not', 'news', 'that', 'Nathan', ...]\n",
      "['They', 'neither', 'liked', 'nor', 'disliked', 'the', ...]\n",
      "['Now', 'that', 'he', 'knew', 'himself', 'to', 'be', ...]\n"
     ]
    }
   ],
   "source": [
    "for category in brown.categories():\n",
    "    print(brown.words(categories = category))"
   ]
  },
  {
   "cell_type": "markdown",
   "metadata": {},
   "source": [
    "2. POS (part-of-speech)"
   ]
  },
  {
   "cell_type": "code",
   "execution_count": 93,
   "metadata": {},
   "outputs": [
    {
     "name": "stdout",
     "output_type": "stream",
     "text": [
      "('The', 'AT')\n",
      "('The', 'DET')\n"
     ]
    }
   ],
   "source": [
    "print(brown.tagged_words()[0])\n",
    "print(brown.tagged_words(tagset='universal')[0])"
   ]
  },
  {
   "cell_type": "markdown",
   "metadata": {},
   "source": [
    "### Explain why sets are better for lexicons that lists"
   ]
  },
  {
   "cell_type": "markdown",
   "metadata": {},
   "source": [
    "- The simpliest lexicon is just a list of words that have something in common. For example:\n",
    "    - Pronouns (\"he\",\"she\", \"I\", ...)\n",
    "    - Negative words (\"terrible\",\"jerk\",\"foolishly\",...)\n",
    "    - A list of all family relations (\"father\", \"sister\",...)\n",
    "    - The vocabulary of the Brown corpus\n",
    "\n",
    "\n",
    "- In lexicon, elements are unique, which is exactly what you need for lexicons\n",
    "- As we know from DSCI 512, checking for membership (in) is much faster, $O(1)$ vs $O(n)$. This especially matters when the lexicon is big"
   ]
  },
  {
   "cell_type": "markdown",
   "metadata": {},
   "source": [
    "### Construct a set from scratch in Python (either manually, or by iterating and adding/updating)"
   ]
  },
  {
   "cell_type": "code",
   "execution_count": 100,
   "metadata": {},
   "outputs": [],
   "source": [
    "my_set = set()\n",
    "\n",
    "# set comprehension\n",
    "days = {n for n in range(31)}"
   ]
  },
  {
   "cell_type": "code",
   "execution_count": 101,
   "metadata": {},
   "outputs": [
    {
     "name": "stdout",
     "output_type": "stream",
     "text": [
      "{0, 1, 2, 3, 4, 5, 6, 7, 8, 9, 10, 11, 12, 13, 14, 15, 16, 17, 18, 19, 20, 21, 22, 23, 24, 25, 26, 27, 28, 29, 30, 31}\n"
     ]
    }
   ],
   "source": [
    "days.add(31)\n",
    "print(days)"
   ]
  },
  {
   "cell_type": "code",
   "execution_count": 103,
   "metadata": {},
   "outputs": [
    {
     "name": "stdout",
     "output_type": "stream",
     "text": [
      "{0, 1, 2, 3, 4, 5, 6, 7, 8, 9, 10, 11, 12, 13, 14, 15, 16, 17, 18, 19, 20, 21, 22, 23, 24, 25, 26, 27, 28, 29, 30, 31}\n"
     ]
    }
   ],
   "source": [
    "days.add(32)\n",
    "days.discard(32)\n",
    "print(days)"
   ]
  },
  {
   "cell_type": "code",
   "execution_count": 105,
   "metadata": {},
   "outputs": [
    {
     "name": "stdout",
     "output_type": "stream",
     "text": [
      "{0, 1, 2, 3, 4, 5, 6, 7, 8, 9, 10, 11, 12, 13, 14, 15, 16, 17, 18, 19, 20, 21, 22, 23, 24, 25, 26, 27, 28, 29, 30, 31, '32'}\n"
     ]
    }
   ],
   "source": [
    "days.update([\"32\"]) # update with a list\n",
    "print(days)"
   ]
  },
  {
   "cell_type": "markdown",
   "metadata": {},
   "source": [
    "### Use set operators to get set intersections and differences"
   ]
  },
  {
   "cell_type": "code",
   "execution_count": 107,
   "metadata": {},
   "outputs": [
    {
     "name": "stdout",
     "output_type": "stream",
     "text": [
      "{'c'}\n",
      "{'b', 'a'}\n"
     ]
    }
   ],
   "source": [
    "set_a = {'a', 'b', 'c'}\n",
    "set_b = {'c', 'd', 'e'}\n",
    "\n",
    "print(set_a & set_b) # intersection\n",
    "print(set_a - set_b) # diff"
   ]
  },
  {
   "cell_type": "code",
   "execution_count": 108,
   "metadata": {},
   "outputs": [
    {
     "name": "stdout",
     "output_type": "stream",
     "text": [
      "set()\n",
      "{'e'}\n"
     ]
    }
   ],
   "source": [
    "# use .intersection (you can use it with something that isn't a set)\n",
    "\n",
    "vowels = {'a','e','i','o','u','y'}\n",
    "word1 = \"rstln\"\n",
    "word2 = \"rstlne\"\n",
    "\n",
    "print(vowels.intersection(word1))\n",
    "print(vowels.intersection(word2))"
   ]
  },
  {
   "cell_type": "markdown",
   "metadata": {},
   "source": [
    "### Know the various different standard ways to count words in (pure) Python, and be able to distinguish how they work"
   ]
  },
  {
   "cell_type": "code",
   "execution_count": 110,
   "metadata": {},
   "outputs": [
    {
     "data": {
      "text/plain": [
       "62713"
      ]
     },
     "execution_count": 110,
     "metadata": {},
     "output_type": "execute_result"
    }
   ],
   "source": [
    "counts = Counter(brown.words())\n",
    "counts['the']"
   ]
  },
  {
   "cell_type": "code",
   "execution_count": 112,
   "metadata": {},
   "outputs": [
    {
     "data": {
      "text/plain": [
       "66758"
      ]
     },
     "execution_count": 112,
     "metadata": {},
     "output_type": "execute_result"
    }
   ],
   "source": [
    "from nltk.corpus import treebank\n",
    "\n",
    "counts.update(treebank.words())\n",
    "counts['the']"
   ]
  },
  {
   "cell_type": "code",
   "execution_count": 113,
   "metadata": {},
   "outputs": [
    {
     "data": {
      "text/plain": [
       "69971"
      ]
     },
     "execution_count": 113,
     "metadata": {},
     "output_type": "execute_result"
    }
   ],
   "source": [
    "counts = {}\n",
    "\n",
    "for word in brown.words():\n",
    "    word = word.lower()\n",
    "    counts[word] = counts.get(word, 0) + 1\n",
    "    \n",
    "    # if word not in counts:\n",
    "    #       counts[word] = 0\n",
    "    # else:\n",
    "    #     counts[word] += 1\n",
    "    \n",
    "counts['the']"
   ]
  },
  {
   "cell_type": "code",
   "execution_count": 120,
   "metadata": {},
   "outputs": [
    {
     "data": {
      "text/plain": [
       "6544"
      ]
     },
     "execution_count": 120,
     "metadata": {},
     "output_type": "execute_result"
    }
   ],
   "source": [
    "first_word_counts = {}\n",
    "\n",
    "for sent in brown.sents():\n",
    "    \n",
    "    word = sent[0]\n",
    "    first_word_counts[word] = first_word_counts.get(word, 0) + 1\n",
    "\n",
    "first_word_counts['The']"
   ]
  },
  {
   "cell_type": "code",
   "execution_count": 122,
   "metadata": {},
   "outputs": [
    {
     "data": {
      "text/plain": [
       "62713"
      ]
     },
     "execution_count": 122,
     "metadata": {},
     "output_type": "execute_result"
    }
   ],
   "source": [
    "# use defaultdict\n",
    "\n",
    "from collections import defaultdict\n",
    "\n",
    "counts = defaultdict(int)\n",
    "\n",
    "for word in brown.words():\n",
    "    counts[word] += 1\n",
    "    \n",
    "counts['the']"
   ]
  },
  {
   "cell_type": "code",
   "execution_count": 133,
   "metadata": {},
   "outputs": [
    {
     "data": {
      "text/plain": [
       "\"Atlanta's\""
      ]
     },
     "execution_count": 133,
     "metadata": {},
     "output_type": "execute_result"
    }
   ],
   "source": [
    "# assign index\n",
    "\n",
    "index_dict = {}\n",
    "\n",
    "for word in counts:\n",
    "    index_dict[word] = len(index_dict)\n",
    "    \n",
    "index_dict\n",
    "\n",
    "{value:key for key, value in index_dict.items()}[10]"
   ]
  },
  {
   "cell_type": "markdown",
   "metadata": {},
   "source": [
    "### Be able to write code which extracts information from a provided complex lexicon (involving nested dictionaries/lists/sets)  "
   ]
  },
  {
   "cell_type": "code",
   "execution_count": 134,
   "metadata": {},
   "outputs": [],
   "source": [
    "mini_sense_lexicon = {\"bear\":[{\"POS\":\"noun\",\"animate\":True,\"count\":634,\"gloss\":\"A big furry animal\"},\n",
    "                              {\"POS\":\"verb\",\"transitive\":True,\"count\":294, \"past tense\":\"bore\", \"past participle\":\"borne\", \"gloss\":\"to endure\"}],\n",
    "                      \"slug\":[{\"POS\":\"noun\",\"animate\":True,\"count\":34, \"gloss\":\"A slimy animal\"},\n",
    "                              {\"POS\":\"verb\",\"transitive\":True,\"count\":3, \"gloss\": \"to hit\"}],\n",
    "                      \"back\":[{\"POS\":\"noun\",\"animate\":False,\"count\":12,\"gloss\":\"a body part\"},\n",
    "                              {\"POS\":\"noun\",\"animate\":False,\"count\":43, \"gloss\":\"the rear of a place\"},\n",
    "                              {\"POS\":\"verb\",\"transitive\":True,\"count\":5, \"gloss\":\"to support\"},\n",
    "                              {\"POS\":\"adverb\",\"count\":47,\"gloss\":\"in a returning fashion\"}],\n",
    "                      \"good\":[{\"POS\":\"noun\",\"animate\":False,\"count\":19,\"gloss\":\"a thing of value\"},\n",
    "                              {\"POS\":\"adjective\", \"count\":1293,\"gloss\":\"positive\"}]}"
   ]
  },
  {
   "cell_type": "code",
   "execution_count": 148,
   "metadata": {},
   "outputs": [
    {
     "data": {
      "text/plain": [
       "True"
      ]
     },
     "execution_count": 148,
     "metadata": {},
     "output_type": "execute_result"
    }
   ],
   "source": [
    "any(feature_dict[\"POS\"] == \"adjective\" for feature_dict in mini_sense_lexicon[\"slug\"])\n",
    "\n",
    "any([feature_dict[\"POS\"] == \"adjective\" for feature_dict in mini_sense_lexicon[\"good\"]])"
   ]
  },
  {
   "cell_type": "code",
   "execution_count": 150,
   "metadata": {},
   "outputs": [
    {
     "name": "stdout",
     "output_type": "stream",
     "text": [
      "{'POS': 'noun', 'animate': False, 'count': 12, 'gloss': 'a body part'}\n",
      "{'POS': 'noun', 'animate': False, 'count': 43, 'gloss': 'the rear of a place'}\n",
      "{'POS': 'verb', 'transitive': True, 'count': 5, 'gloss': 'to support'}\n",
      "{'POS': 'adverb', 'count': 47, 'gloss': 'in a returning fashion'}\n",
      "47 in a returning fashion\n"
     ]
    }
   ],
   "source": [
    "highest = 0\n",
    "gloss = \"\"\n",
    "for feature_dict in mini_sense_lexicon[\"back\"]:\n",
    "    print(feature_dict)\n",
    "    if feature_dict['count'] > highest:\n",
    "        highest = feature_dict['count']\n",
    "        gloss = feature_dict['gloss']\n",
    "    \n",
    "print(highest, gloss)"
   ]
  },
  {
   "cell_type": "markdown",
   "metadata": {},
   "source": [
    "### Load a lexicon in NLTK into a set, and be able to use it to count how often words in the lexicon appear in a NLTK corpus"
   ]
  },
  {
   "cell_type": "code",
   "execution_count": 153,
   "metadata": {},
   "outputs": [
    {
     "data": {
      "text/plain": [
       "['i', 'me', 'my', 'myself', 'we']"
      ]
     },
     "execution_count": 153,
     "metadata": {},
     "output_type": "execute_result"
    }
   ],
   "source": [
    "from nltk.corpus import stopwords\n",
    "stopwords.words(\"english\")[:5]"
   ]
  },
  {
   "cell_type": "code",
   "execution_count": 154,
   "metadata": {},
   "outputs": [
    {
     "name": "stdout",
     "output_type": "stream",
     "text": [
      "['Adi', 'Adiana', 'Adina', 'Adora', 'Adore', 'Adoree', 'Adorne', 'Adrea', 'Adria', 'Adriaens']\n"
     ]
    }
   ],
   "source": [
    "from nltk.corpus import names\n",
    "print(names.words(\"female.txt\")[30:40])"
   ]
  },
  {
   "cell_type": "code",
   "execution_count": 155,
   "metadata": {},
   "outputs": [
    {
     "name": "stdout",
     "output_type": "stream",
     "text": [
      "['a+', 'abound', 'abounds', 'abundance', 'abundant', 'accessable', 'accessible', 'acclaim', 'acclaimed', 'acclamation']\n"
     ]
    }
   ],
   "source": [
    "from nltk.corpus import opinion_lexicon\n",
    "print(opinion_lexicon.words('positive-words.txt')[:10])"
   ]
  },
  {
   "cell_type": "code",
   "execution_count": 156,
   "metadata": {},
   "outputs": [
    {
     "data": {
      "text/plain": [
       "[['IH1', 'N', 'D', 'EH0', 'K', 'S']]"
      ]
     },
     "execution_count": 156,
     "metadata": {},
     "output_type": "execute_result"
    }
   ],
   "source": [
    "from nltk.corpus import cmudict\n",
    "p_dict = cmudict.dict()\n",
    "\n",
    "p_dict[\"index\"]"
   ]
  },
  {
   "cell_type": "markdown",
   "metadata": {},
   "source": [
    "### Explain why word probabilties can be more useful than word counts for comparing corpora\n",
    "\n",
    "- Corpora can be of **vastly different sizes**, and those sizes will have a direct effect on word count. \n",
    "    - For example, one corpus might have 1 mention of the word _dog_ and another might have 100. \n",
    "    - This might indicate the second corpus talks a lot more about dogs, or it might just indicate that the second one is 100X as large\n",
    "\n",
    "\n",
    "- For easy interpretability and to avoid low numbers, one often multiples these normalized word probabilities by some large number like 1000, at which point the resulting number can be understood as **X occurrences per 1000 tokens**"
   ]
  },
  {
   "cell_type": "code",
   "execution_count": 162,
   "metadata": {},
   "outputs": [
    {
     "name": "stdout",
     "output_type": "stream",
     "text": [
      "5.400743374050114\n"
     ]
    }
   ],
   "source": [
    "total_tokens = sum(counts.values())\n",
    "probs = {}\n",
    "\n",
    "for word in counts:\n",
    "    probs[word] = counts[word] / total_tokens\n",
    "    \n",
    "print(probs[\"the\"] * 100)"
   ]
  },
  {
   "cell_type": "markdown",
   "metadata": {},
   "source": [
    "### Explain why we might throw low count words out of our count dictionary     \n",
    "\n",
    "- They are often uninteresting or statistically unreliable.\n",
    "- Usually easier to just create a new dictionary."
   ]
  },
  {
   "cell_type": "code",
   "execution_count": 158,
   "metadata": {},
   "outputs": [
    {
     "name": "stdout",
     "output_type": "stream",
     "text": [
      "56057\n",
      "13150\n"
     ]
    }
   ],
   "source": [
    "counts = Counter(brown.words())\n",
    "\n",
    "new_counts = {word:count for word,count in counts.items() if 5 < count < 10000}\n",
    "\n",
    "print(len(counts))\n",
    "print(len(new_counts))"
   ]
  },
  {
   "cell_type": "markdown",
   "metadata": {},
   "source": [
    "### Know the difference between the sort method and sorted function\n",
    "- `sorted()` is a function, `.sort()` is a method. \n",
    "- `sorted` creates a new sorted list, `.sort()` sorts a list in place. "
   ]
  },
  {
   "cell_type": "code",
   "execution_count": 163,
   "metadata": {},
   "outputs": [
    {
     "name": "stdout",
     "output_type": "stream",
     "text": [
      "[-24592, -4, 0.5, 3, 6, 23, 202, 3482]\n",
      "[3, 6, -4, 23, 0.5, 202, -24592, 3482]\n",
      "None\n",
      "[-24592, -4, 0.5, 3, 6, 23, 202, 3482]\n"
     ]
    }
   ],
   "source": [
    "nums = [3, 6, -4, 23, 0.5, 202, -24592, 3482]\n",
    "\n",
    "print(sorted(nums))\n",
    "print(nums)\n",
    "print(nums.sort()) # doesn't return anything\n",
    "print(nums) # inplace sort"
   ]
  },
  {
   "cell_type": "markdown",
   "metadata": {},
   "source": [
    "### Be able to sort the keys of a Python dictionary using the corresponding values, using either tuples or the \"key\" keyword + lambda function)"
   ]
  },
  {
   "cell_type": "code",
   "execution_count": 165,
   "metadata": {},
   "outputs": [
    {
     "data": {
      "text/plain": [
       "[(69, 'fox'), (327, 'quick'), (539, 'brown'), (87925, 'the')]"
      ]
     },
     "execution_count": 165,
     "metadata": {},
     "output_type": "execute_result"
    }
   ],
   "source": [
    "# using tuple\n",
    "counts = {\"the\":87925, \"quick\":327, \"brown\":539, \"fox\":69}\n",
    "sorted((count,word) for word, count in counts.items())"
   ]
  },
  {
   "cell_type": "code",
   "execution_count": 173,
   "metadata": {},
   "outputs": [
    {
     "name": "stdout",
     "output_type": "stream",
     "text": [
      "default:  ['brown', 'fox', 'quick', 'the']\n",
      "with lambda function:  ['fox', 'quick', 'brown', 'the']\n"
     ]
    }
   ],
   "source": [
    "# using lambda function\n",
    "\n",
    "sorted_words = sorted(counts.keys())\n",
    "\n",
    "print(\"default: \", sorted_words)\n",
    "\n",
    "lambda_sorted_words = sorted(counts.keys(), key=lambda x: counts[x])\n",
    "\n",
    "print(\"with lambda function: \", lambda_sorted_words) # counts based on the value counts[keys]"
   ]
  },
  {
   "cell_type": "code",
   "execution_count": 185,
   "metadata": {},
   "outputs": [
    {
     "data": {
      "text/plain": [
       "['industrial-production',\n",
       " 'Trockenbeerenauslesen',\n",
       " 'collective-bargaining',\n",
       " 'intellectual-property',\n",
       " 'most-likely-successor',\n",
       " 'telephone-information',\n",
       " 'Bridgestone\\\\/Firestone',\n",
       " 'computer-system-design',\n",
       " 'Macmillan\\\\/McGraw-Hill',\n",
       " 'marketing-communications']"
      ]
     },
     "execution_count": 185,
     "metadata": {},
     "output_type": "execute_result"
    }
   ],
   "source": [
    "# sorted by length\n",
    "sorted_by_length = sorted(set(treebank.words()), key=lambda x: len(x))\n",
    "\n",
    "sorted_by_length[-10:]"
   ]
  },
  {
   "cell_type": "markdown",
   "metadata": {},
   "source": [
    "### Calculate (by hand or by writing code) type-token ratio and lexical density.\n",
    "\n",
    "- Type-token ratio\n",
    "$$\\frac{\\texttt{No. of word types}}{\\texttt{No. of word token}}$$\n",
    "\n",
    "- Lexical denxity\n",
    "$$\\frac{\\texttt{No. of words that are 'verb, noun, adj, adv'}}{\\texttt{No. of word token}}$$"
   ]
  },
  {
   "cell_type": "markdown",
   "metadata": {},
   "source": [
    "### Understand the fixed-length restriction on type-token ratio when it is used for comparing corpora."
   ]
  },
  {
   "cell_type": "markdown",
   "metadata": {},
   "source": [
    "- You need to **fix the number of tokens for comparison**, because TTR can be quite different for different numbers of tokens.\n",
    "- You need to `lower case` the types."
   ]
  },
  {
   "cell_type": "code",
   "execution_count": 187,
   "metadata": {},
   "outputs": [],
   "source": [
    "# type-token ratio\n",
    "# type (lower case) / token\n",
    "\n",
    "def type_token_ratio(words, num_words):\n",
    "    '''calculate type-token ratio from the corpus of word tokens (list of strings) using the first\n",
    "    num_words tokens'''\n",
    "    \n",
    "    types = set([word.lower() for word in words[:num_words]])\n",
    "    return len(types)/num_words"
   ]
  },
  {
   "cell_type": "code",
   "execution_count": 190,
   "metadata": {},
   "outputs": [
    {
     "data": {
      "text/plain": [
       "0.417"
      ]
     },
     "execution_count": 190,
     "metadata": {},
     "output_type": "execute_result"
    }
   ],
   "source": [
    "type_token_ratio(brown.words(), 1000)"
   ]
  },
  {
   "cell_type": "code",
   "execution_count": 232,
   "metadata": {},
   "outputs": [
    {
     "data": {
      "text/plain": [
       "0.13082"
      ]
     },
     "execution_count": 232,
     "metadata": {},
     "output_type": "execute_result"
    }
   ],
   "source": [
    "type_token_ratio(brown.words(), 100000)"
   ]
  },
  {
   "cell_type": "code",
   "execution_count": 181,
   "metadata": {},
   "outputs": [
    {
     "name": "stdout",
     "output_type": "stream",
     "text": [
      "43.480664696277614\n"
     ]
    }
   ],
   "source": [
    "# lexical denxity\n",
    "# Noun, Verb, Adjectvie, Adverb / total words\n",
    "\n",
    "open_class = {\"N\", \"V\", \"J\", \"R\"}\n",
    "open_class_count = 0\n",
    "\n",
    "for word, pos in brown.tagged_words():\n",
    "    if pos[0] in open_class:\n",
    "        open_class_count += 1\n",
    "        \n",
    "print(open_class_count / len(brown.words()) * 100)"
   ]
  },
  {
   "cell_type": "markdown",
   "metadata": {},
   "source": [
    "### Be able to explain the relative values of simple corpus statistics based on major differences in the properties of corpora."
   ]
  },
  {
   "cell_type": "code",
   "execution_count": 229,
   "metadata": {},
   "outputs": [],
   "source": [
    "def get_simple_stats(corpus, dictionary):\n",
    "    num_chars = sum([len(word) for word in corpus.words()])\n",
    "    num_words = len(corpus.words())\n",
    "    num_sents = len(corpus.sents())\n",
    "    num_texts = len(corpus.fileids())\n",
    "\n",
    "    dictionary[str(corpus)[67:]] = {\n",
    "        \"avg word length\": num_chars / num_words,\n",
    "        \"avg sent length\": num_words / num_sents,\n",
    "        \"avg text length\": num_words / num_texts,\n",
    "        \"type token ratio\": type_token_ratio(corpus.words(), 1000)\n",
    "    }\n",
    "\n",
    "    return dictionary"
   ]
  },
  {
   "cell_type": "code",
   "execution_count": 230,
   "metadata": {},
   "outputs": [],
   "source": [
    "from nltk.corpus import switchboard, gutenberg, movie_reviews\n",
    "corpora = [brown, treebank, gutenberg, movie_reviews]\n",
    "my_dict = {}\n",
    "\n",
    "for corpus in corpora:\n",
    "    get_simple_stats(corpus, my_dict)"
   ]
  },
  {
   "cell_type": "code",
   "execution_count": 231,
   "metadata": {},
   "outputs": [
    {
     "data": {
      "text/html": [
       "<div>\n",
       "<style scoped>\n",
       "    .dataframe tbody tr th:only-of-type {\n",
       "        vertical-align: middle;\n",
       "    }\n",
       "\n",
       "    .dataframe tbody tr th {\n",
       "        vertical-align: top;\n",
       "    }\n",
       "\n",
       "    .dataframe thead th {\n",
       "        text-align: right;\n",
       "    }\n",
       "</style>\n",
       "<table border=\"1\" class=\"dataframe\">\n",
       "  <thead>\n",
       "    <tr style=\"text-align: right;\">\n",
       "      <th></th>\n",
       "      <th>brown</th>\n",
       "      <th>treebank</th>\n",
       "      <th>gutenberg</th>\n",
       "      <th>movie_reivews</th>\n",
       "    </tr>\n",
       "  </thead>\n",
       "  <tbody>\n",
       "    <tr>\n",
       "      <th>avg word length</th>\n",
       "      <td>4.276538</td>\n",
       "      <td>4.406154</td>\n",
       "      <td>3.618868</td>\n",
       "      <td>3.931444</td>\n",
       "    </tr>\n",
       "    <tr>\n",
       "      <th>avg sent length</th>\n",
       "      <td>20.250994</td>\n",
       "      <td>25.722024</td>\n",
       "      <td>26.601317</td>\n",
       "      <td>22.141419</td>\n",
       "    </tr>\n",
       "    <tr>\n",
       "      <th>avg text length</th>\n",
       "      <td>2322.384000</td>\n",
       "      <td>505.909548</td>\n",
       "      <td>145645.166667</td>\n",
       "      <td>791.910000</td>\n",
       "    </tr>\n",
       "    <tr>\n",
       "      <th>type token ratio</th>\n",
       "      <td>0.417000</td>\n",
       "      <td>0.448000</td>\n",
       "      <td>0.400000</td>\n",
       "      <td>0.393000</td>\n",
       "    </tr>\n",
       "  </tbody>\n",
       "</table>\n",
       "</div>"
      ],
      "text/plain": [
       "                        brown    treebank      gutenberg  movie_reivews\n",
       "avg word length      4.276538    4.406154       3.618868       3.931444\n",
       "avg sent length     20.250994   25.722024      26.601317      22.141419\n",
       "avg text length   2322.384000  505.909548  145645.166667     791.910000\n",
       "type token ratio     0.417000    0.448000       0.400000       0.393000"
      ]
     },
     "execution_count": 231,
     "metadata": {},
     "output_type": "execute_result"
    }
   ],
   "source": [
    "import pandas as pd\n",
    "pd.DataFrame(my_dict).rename(columns={\"brown'>\":'brown', \"ank/combined'>\":'treebank', \"g'>\":'gutenberg', \"ra/movie_reviews'>\":'movie_reivews'})"
   ]
  },
  {
   "cell_type": "markdown",
   "metadata": {},
   "source": [
    "### Give the key steps for using the two (related) methods we talked about for identifying words that are common in one corpus relative to another corpus"
   ]
  },
  {
   "cell_type": "markdown",
   "metadata": {},
   "source": [
    "### Be able to contrast those two methods, in terms of the words they can be applied to, and the words they tend to find as being representative."
   ]
  },
  {
   "cell_type": "code",
   "execution_count": 235,
   "metadata": {},
   "outputs": [],
   "source": [
    "from nltk.corpus import webtext\n",
    "\n",
    "def get_unigram_probs(words):\n",
    "    '''get unigram probabilities for the words in a corpus'''\n",
    "    counts = Counter(word.lower() for word in words)\n",
    "    total = sum(counts.values())\n",
    "    return {word:count/total for word,count in counts.items()}\n",
    "\n",
    "web_probs = get_unigram_probs(webtext.words())\n",
    "guten_probs = get_unigram_probs(gutenberg.words())"
   ]
  },
  {
   "cell_type": "markdown",
   "metadata": {},
   "source": [
    "#### Method 1: Subtract probabilities\n",
    "- Rank the words by the difference between probabilities\n",
    "- Tend to get a lot of very common words since these words have high probabilities to begin with.\n",
    "- Exclude some very low probability types"
   ]
  },
  {
   "cell_type": "code",
   "execution_count": 236,
   "metadata": {},
   "outputs": [],
   "source": [
    "def subtract_probs(prob1, prob2):\n",
    "    '''given two probability dictionaries, create a dictionary has the difference of probabilities (prob1 - prob2)\n",
    "    for words that appear in either dictionary'''\n",
    "    all_words = set(prob1.keys())\n",
    "    all_words.update(prob2.keys())\n",
    "    return {word:prob1.get(word,0) - prob2.get(word,0) for word in all_words}"
   ]
  },
  {
   "cell_type": "code",
   "execution_count": 238,
   "metadata": {},
   "outputs": [],
   "source": [
    "sub_dict = subtract_probs(guten_probs, web_probs)\n",
    "sub_sorted_words = sorted(sub_dict.keys(), key=lambda x: sub_dict[x])"
   ]
  },
  {
   "cell_type": "code",
   "execution_count": 241,
   "metadata": {},
   "outputs": [
    {
     "name": "stdout",
     "output_type": "stream",
     "text": [
      "Words associated with webtext: [\"'\", ':', '.', '#', 'i', 'you', '?', 't', '!', 'girl', 'guy', 'on', '-', '1', 's', '...', '2', ']', '[', 'like', 'don', 'm', 'a', 'yeah', 'page', 'firefox', 'when', 'can', 'woman', 'just', 're', 'get', 'chick', 'does', 'new', 'no', '(', ')', 'window', 'bookmarks', 'open', 'doesn', 'teen', 'firebird', 'cell', 'know', 'is', 'menu', 'tab', 'bar']\n",
      "-----------------------------\n",
      "Words associated with gutenberg: ['men', 'from', 'house', 'hath', 'israel', 'before', 'king', 'will', 'at', '--', 'came', 'she', 'god', 'upon', 'but', ',\"', 'ye', '.\"', 'with', 'thee', 'were', 'in', 'thy', 'by', 'to', 'thou', 'their', 'for', 'all', 'they', 'be', 'her', 'which', 'had', 'said', 'them', 'lord', 'unto', 'as', 'him', 'that', 'was', 'shall', 'he', 'his', ';', 'of', 'and', 'the', ',']\n"
     ]
    }
   ],
   "source": [
    "print(f\"Words associated with webtext: {sub_sorted_words[:50]}\")\n",
    "print(\"-----------------------------\")\n",
    "print(f\"Words associated with gutenberg: {sub_sorted_words[-50:]}\")"
   ]
  },
  {
   "cell_type": "markdown",
   "metadata": {},
   "source": [
    "#### Method 2: Ratio between probabilities\n",
    "- Potential for divide by zero errors : only look at the shared vocabulary\n",
    "- Ratio method can filter distinctive words\n",
    "- Includes some very low probability types\n",
    "    - To eliminate noise, you can remove words with low counts in one or both corpora"
   ]
  },
  {
   "cell_type": "code",
   "execution_count": 244,
   "metadata": {},
   "outputs": [],
   "source": [
    "def divide_probs(prob1, prob2):\n",
    "    '''given two probability dictionaries, create a dictionary has the ratios of probabilities (prob1/prob2)\n",
    "    for each word included in both'''\n",
    "    all_words = set(prob1.keys()).intersection(prob2.keys())\n",
    "    return {word:prob1[word]/prob2[word] for word in all_words}"
   ]
  },
  {
   "cell_type": "code",
   "execution_count": 246,
   "metadata": {},
   "outputs": [],
   "source": [
    "div_dict = divide_probs(guten_probs, web_probs)\n",
    "div_sorted_words = sorted(div_dict.keys(), key=lambda x:div_dict[x])"
   ]
  },
  {
   "cell_type": "code",
   "execution_count": 247,
   "metadata": {},
   "outputs": [
    {
     "name": "stdout",
     "output_type": "stream",
     "text": [
      "Words associated with webtext: ['guy', '0', 'clicking', 'tourist', 'folder', '+', 'download', 'password', 'dad', 'option', 'turner', 'install', 'phoenix', 'default', 'bitch', 'user', 'html', '?...', 'location', 'os', 'status', 'context', 'auto', 'bug', 'focus', 'settings', 'anymore', 'click', 'extension', 'disable', 'installed', 'pussy', 'delete', 'site', '***', 'jewish', 'cashier', 'cute', 'cop', 'loading', 'cancel', 'program', '<', '>', 'font', 'fails', 'yo', 'data', 'blocking', 'switch']\n",
      "-----------------------------\n",
      "Words associated with gutenberg: ['21', 'wrath', 'sight', 'ark', '19', 'offering', 'abraham', 'sin', ',\"', 'offerings', 'cried', 'pharaoh', 'among', 'grace', '22', 'princes', 'elliot', 'receive', 'stood', 'angel', 'wilderness', '27', 'solomon', 'spirits', 'shalt', 'mercy', 'aaron', 'shall', 'whom', 'israel', '14', 'praise', 'wherefore', '29', 'spoken', 'replied', 'commanded', 'behold', 'thou', 'sons', 'spake', 'thus', 'therefore', 'mrs', 'thine', 'thy', 'thee', 'hast', 'whale', 'ye']\n"
     ]
    }
   ],
   "source": [
    "print(f\"Words associated with webtext: {div_sorted_words[:50]}\")\n",
    "print(\"-----------------------------\")\n",
    "print(f\"Words associated with gutenberg: {div_sorted_words[-50:]}\")"
   ]
  },
  {
   "cell_type": "code",
   "execution_count": 286,
   "metadata": {},
   "outputs": [
    {
     "data": {
      "text/plain": [
       "\"the/AT fulton/NP county/NN grand/JJ jury/NN said/VBD friday/NR an/AT investigation/NN of/IN atlanta's/NP$ recent/JJ primary/NN election/NN produced/VBD ``/`` no/AT evidence/NN ''/'' that/CS any/DTI irregularities/NNS took/VBD place/NN ./.\""
      ]
     },
     "execution_count": 286,
     "metadata": {},
     "output_type": "execute_result"
    }
   ],
   "source": [
    "\" \".join([\"/\".join((word.lower(), pos.split(\"-\")[0])) for word, pos in brown.tagged_sents()[0]])"
   ]
  },
  {
   "cell_type": "code",
   "execution_count": 287,
   "metadata": {},
   "outputs": [],
   "source": [
    "from nltk.corpus import reuters"
   ]
  },
  {
   "cell_type": "code",
   "execution_count": 305,
   "metadata": {},
   "outputs": [],
   "source": [
    "housing_words = reuters.words(reuters.fileids(categories='housing'))"
   ]
  },
  {
   "cell_type": "code",
   "execution_count": 301,
   "metadata": {},
   "outputs": [],
   "source": [
    "stopwords_set = stopwords.words(\"English\")"
   ]
  },
  {
   "cell_type": "code",
   "execution_count": 307,
   "metadata": {},
   "outputs": [
    {
     "data": {
      "image/png": "[encoded data removed]",
      "text/plain": [
       "<Figure size 432x288 with 1 Axes>"
      ]
     },
     "metadata": {
      "needs_background": "light"
     },
     "output_type": "display_data"
    }
   ],
   "source": [
    "wd = WordCloud()\n",
    "wd.generate(\" \".join([word for word in housing_words if word.isalpha() and word.lower() not in stopwords_set]))\n",
    "plt.imshow(wd);"
   ]
  },
  {
   "cell_type": "code",
   "execution_count": 311,
   "metadata": {},
   "outputs": [
    {
     "ename": "AttributeError",
     "evalue": "'list' object has no attribute 'replace'",
     "output_type": "error",
     "traceback": [
      "\u001b[0;31m---------------------------------------------------------------------------\u001b[0m",
      "\u001b[0;31mAttributeError\u001b[0m                            Traceback (most recent call last)",
      "\u001b[0;32m<ipython-input-311-6b8aa473e6f2>\u001b[0m in \u001b[0;36m<module>\u001b[0;34m\u001b[0m\n\u001b[0;32m----> 1\u001b[0;31m \u001b[0;34m[\u001b[0m\u001b[0;34m\"Life is what happens when you're busy making other plans.\"\u001b[0m\u001b[0;34m]\u001b[0m\u001b[0;34m.\u001b[0m\u001b[0mreplace\u001b[0m\u001b[0;34m(\u001b[0m\u001b[0;34m'\\\"'\u001b[0m\u001b[0;34m,\u001b[0m \u001b[0;34m\"\\'\"\u001b[0m\u001b[0;34m)\u001b[0m\u001b[0;34m\u001b[0m\u001b[0;34m\u001b[0m\u001b[0m\n\u001b[0m",
      "\u001b[0;31mAttributeError\u001b[0m: 'list' object has no attribute 'replace'"
     ]
    }
   ],
   "source": [
    "[\"Life is what happens when you're busy making other plans.\".replace('\\\"', \"\\'\")"
   ]
  },
  {
   "cell_type": "code",
   "execution_count": 313,
   "metadata": {},
   "outputs": [
    {
     "data": {
      "text/plain": [
       "[('the', 62713), (',', 58334), ('.', 49346), ('of', 36080), ('and', 27915)]"
      ]
     },
     "execution_count": 313,
     "metadata": {},
     "output_type": "execute_result"
    }
   ],
   "source": [
    "counter.most_common(5)"
   ]
  },
  {
   "cell_type": "code",
   "execution_count": 318,
   "metadata": {},
   "outputs": [],
   "source": [
    "L = ['a', 'the', 'b', 'eeek']"
   ]
  },
  {
   "cell_type": "code",
   "execution_count": 319,
   "metadata": {},
   "outputs": [
    {
     "data": {
      "text/plain": [
       "['a', 'b', 'the', 'eeek']"
      ]
     },
     "execution_count": 319,
     "metadata": {},
     "output_type": "execute_result"
    }
   ],
   "source": [
    "sorted(L, key=lambda x: x[-1])"
   ]
  },
  {
   "cell_type": "code",
   "execution_count": 320,
   "metadata": {},
   "outputs": [],
   "source": [
    "nym_lexicon= {\"big\": {\"syn\":[\"large\", \"huge\"], \"ant\":[\"small\"]},\n",
    "              \"dumb\": {\"syn\":[\"stupid\"], \"ant\":[\"smart\"]},\n",
    "              \"automatic\": {\"syn\":[], \"ant\":[\"manual\"]}}\n"
   ]
  },
  {
   "cell_type": "code",
   "execution_count": 327,
   "metadata": {},
   "outputs": [],
   "source": [
    "syn_set = set()\n",
    "for word in nym_lexicon:\n",
    "    for syn in nym_lexicon[word]['syn']:\n",
    "        syn_set.add((word, syn))"
   ]
  },
  {
   "cell_type": "code",
   "execution_count": 328,
   "metadata": {},
   "outputs": [
    {
     "data": {
      "text/plain": [
       "{('big', 'huge'), ('big', 'large'), ('dumb', 'stupid')}"
      ]
     },
     "execution_count": 328,
     "metadata": {},
     "output_type": "execute_result"
    }
   ],
   "source": [
    "syn_set"
   ]
  },
  {
   "cell_type": "code",
   "execution_count": 338,
   "metadata": {},
   "outputs": [
    {
     "data": {
      "text/plain": [
       "'mys'"
      ]
     },
     "execution_count": 338,
     "metadata": {},
     "output_type": "execute_result"
    }
   ],
   "source": [
    "\"'mys'\".strip(\"'\")"
   ]
  },
  {
   "cell_type": "code",
   "execution_count": null,
   "metadata": {},
   "outputs": [],
   "source": []
  }
 ],
 "metadata": {
  "kernelspec": {
   "display_name": "Python 3",
   "language": "python",
   "name": "python3"
  },
  "language_info": {
   "codemirror_mode": {
    "name": "ipython",
    "version": 3
   },
   "file_extension": ".py",
   "mimetype": "text/x-python",
   "name": "python",
   "nbconvert_exporter": "python",
   "pygments_lexer": "ipython3",
   "version": "3.8.3"
  }
 },
 "nbformat": 4,
 "nbformat_minor": 4
}
